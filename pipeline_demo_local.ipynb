{
 "cells": [
  {
   "cell_type": "markdown",
   "metadata": {},
   "source": [
    "# The Build Vault Pipeline Demo - Local Version\n",
    "\n",
    "## Overview\n",
    "\n",
    "This notebook processes a real podcast episode through the complete pipeline using LOCAL CSV files instead of Supabase:\n",
    "- Downloads actual audio from YouTube\n",
    "- Transcribes using AssemblyAI\n",
    "- Extracts insights with GPT-4.1-mini\n",
    "- Stores data in local CSV files"
   ]
  },
  {
   "cell_type": "code",
   "execution_count": 1,
   "metadata": {},
   "outputs": [
    {
     "name": "stdout",
     "output_type": "stream",
     "text": [
      "Imports complete\n"
     ]
    }
   ],
   "source": [
    "# Setup and imports\n",
    "import os\n",
    "import sys\n",
    "import json\n",
    "import time\n",
    "import uuid\n",
    "from datetime import datetime\n",
    "import pandas as pd\n",
    "import matplotlib.pyplot as plt\n",
    "import seaborn as sns\n",
    "from IPython.display import display, HTML, Markdown, clear_output\n",
    "\n",
    "# Configure visualization\n",
    "sns.set_theme(style=\"whitegrid\")\n",
    "plt.rcParams['figure.figsize'] = (10, 6)\n",
    "\n",
    "print(\"Imports complete\")"
   ]
  },
  {
   "cell_type": "code",
   "execution_count": 2,
   "metadata": {},
   "outputs": [
    {
     "name": "stdout",
     "output_type": "stream",
     "text": [
      "Loaded environment variables successfully\n",
      "YOUTUBE_API_KEY\n",
      "ASSEMBLYAI_API_KEY\n",
      "OPENAI_API_KEY\n"
     ]
    }
   ],
   "source": [
    "# Load environment variables\n",
    "from dotenv import load_dotenv\n",
    "\n",
    "env_path = os.path.join(os.getcwd(), '.env')\n",
    "if os.path.exists(env_path):\n",
    "    load_dotenv(env_path, override=True)\n",
    "    print(f\"Loaded environment variables successfully\")\n",
    "else:\n",
    "    print(f\"No .env file found at {env_path}\")\n",
    "\n",
    "# Verify environment variables\n",
    "required_vars = [\n",
    "    'YOUTUBE_API_KEY',\n",
    "    'ASSEMBLYAI_API_KEY', \n",
    "    'OPENAI_API_KEY'\n",
    "]\n",
    "\n",
    "all_set = True\n",
    "for var in required_vars:\n",
    "    value = os.getenv(var)\n",
    "    if value:\n",
    "        print(f\"{var}\")\n",
    "    else:\n",
    "        print(f\"{var}: Not set\")\n",
    "        all_set = False\n",
    "\n",
    "if not all_set:\n",
    "    print(\"\\nSome environment variables are missing. Check your .env file.\")"
   ]
  },
  {
   "cell_type": "code",
   "execution_count": 3,
   "metadata": {},
   "outputs": [
    {
     "name": "stdout",
     "output_type": "stream",
     "text": [
      "Local data directory created\n",
      "\n",
      "CSV files:\n",
      "  - episodes: (1362 bytes)\n",
      "  - segments: (21368 bytes)\n",
      "  - insights: (3102 bytes)\n",
      "  - products: (2865 bytes)\n",
      "  - links: (45 bytes)\n"
     ]
    }
   ],
   "source": [
    "# Create local data storage\n",
    "DATA_DIR = os.path.join(os.getcwd(), 'local_data')\n",
    "os.makedirs(DATA_DIR, exist_ok=True)\n",
    "\n",
    "# Initialize CSV files if they don't exist\n",
    "csv_files = {\n",
    "    'episodes': os.path.join(DATA_DIR, 'episodes.csv'),\n",
    "    'segments': os.path.join(DATA_DIR, 'segments.csv'),\n",
    "    'insights': os.path.join(DATA_DIR, 'insights.csv'),\n",
    "    'products': os.path.join(DATA_DIR, 'products.csv'),\n",
    "    'links': os.path.join(DATA_DIR, 'links.csv')\n",
    "}\n",
    "\n",
    "# Create empty DataFrames if files don't exist\n",
    "if not os.path.exists(csv_files['episodes']):\n",
    "    pd.DataFrame(columns=['id', 'title', 'youtube_video_id', 'youtube_url', 'duration', \n",
    "                         'published_at', 'status', 'audio_file_path', 'summary', \n",
    "                         'is_processed']).to_csv(csv_files['episodes'], index=False)\n",
    "\n",
    "if not os.path.exists(csv_files['segments']):\n",
    "    pd.DataFrame(columns=['id', 'episode_id', 'start_time', 'end_time', 'raw_text', \n",
    "                         'display_text', 'speaker', 'confidence', 'duration']).to_csv(csv_files['segments'], index=False)\n",
    "\n",
    "if not os.path.exists(csv_files['insights']):\n",
    "    pd.DataFrame(columns=['id', 'episode_id', 'category', 'content', 'confidence_score',\n",
    "                         'segment_start', 'segment_end']).to_csv(csv_files['insights'], index=False)\n",
    "\n",
    "if not os.path.exists(csv_files['products']):\n",
    "    pd.DataFrame(columns=['id', 'name', 'episode_ids', 'mention_count']).to_csv(csv_files['products'], index=False)\n",
    "\n",
    "if not os.path.exists(csv_files['links']):\n",
    "    pd.DataFrame(columns=['id', 'episode_id', 'url', 'title', 'description', \n",
    "                         'enriched']).to_csv(csv_files['links'], index=False)\n",
    "\n",
    "print(f\"Local data directory created\")\n",
    "print(\"\\nCSV files:\")\n",
    "for name, path in csv_files.items():\n",
    "    size = os.path.getsize(path)\n",
    "    print(f\"  - {name}: ({size} bytes)\")"
   ]
  },
  {
   "cell_type": "code",
   "execution_count": 4,
   "metadata": {},
   "outputs": [
    {
     "data": {
      "text/html": [
       "\n",
       "    <div style='background: #fff3cd; border: 1px solid #ffeaa7; padding: 15px; border-radius: 5px;'>\n",
       "        <strong>Demo Mode Active</strong><br>\n",
       "        <ul style='margin: 5px 0;'>\n",
       "            <li>Max 100 insights</li>\n",
       "            <li>Max 100 segments</li>\n",
       "        </ul>\n",
       "    </div>\n",
       "    "
      ],
      "text/plain": [
       "<IPython.core.display.HTML object>"
      ]
     },
     "metadata": {},
     "output_type": "display_data"
    }
   ],
   "source": [
    "# Configuration\n",
    "DEMO_MODE = True\n",
    "YOUTUBE_URL = \"https://www.youtube.com/watch?v=9I_WxAMQ9_0\"\n",
    "SKIP_EXISTING = True\n",
    "MAX_INSIGHTS = 100\n",
    "MAX_SEGMENTS = 100\n",
    "\n",
    "if DEMO_MODE:\n",
    "    display(HTML(\"\"\"\n",
    "    <div style='background: #fff3cd; border: 1px solid #ffeaa7; padding: 15px; border-radius: 5px;'>\n",
    "        <strong>Demo Mode Active</strong><br>\n",
    "        <ul style='margin: 5px 0;'>\n",
    "            <li>Max {} insights</li>\n",
    "            <li>Max {} segments</li>\n",
    "        </ul>\n",
    "    </div>\n",
    "    \"\"\".format(MAX_INSIGHTS, MAX_SEGMENTS)))"
   ]
  },
  {
   "cell_type": "markdown",
   "metadata": {},
   "source": [
    "## Step 1: Audio Download"
   ]
  },
  {
   "cell_type": "code",
   "execution_count": 5,
   "metadata": {},
   "outputs": [
    {
     "name": "stdout",
     "output_type": "stream",
     "text": [
      "Episode already exists: The Build - Agents as MCP Tools\n"
     ]
    },
    {
     "data": {
      "text/html": [
       "\n",
       "    <div style='background: #f8f9fa; padding: 20px; border-radius: 10px; margin: 10px 0;'>\n",
       "        <h4 style='margin: 0 0 10px 0;'>Episode Information</h4>\n",
       "        <p><strong>Title:</strong> The Build - Agents as MCP Tools</p>\n",
       "        <p><strong>YouTube ID:</strong> 9I_WxAMQ9_0</p>\n",
       "        <p><strong>Duration:</strong> 733 seconds</p>\n",
       "        <p><strong>Status:</strong> downloaded</p>\n",
       "    </div>\n",
       "    "
      ],
      "text/plain": [
       "<IPython.core.display.HTML object>"
      ]
     },
     "metadata": {},
     "output_type": "display_data"
    }
   ],
   "source": [
    "# Download audio\n",
    "import yt_dlp\n",
    "\n",
    "# Extract video ID\n",
    "video_id = YOUTUBE_URL.split('v=')[-1].split('&')[0]\n",
    "audio_dir = os.path.join(os.getcwd(), 'audio_storage')\n",
    "os.makedirs(audio_dir, exist_ok=True)\n",
    "\n",
    "# Check if episode exists\n",
    "episodes_df = pd.read_csv(csv_files['episodes'])\n",
    "existing = episodes_df[episodes_df['youtube_video_id'] == video_id]\n",
    "\n",
    "if not existing.empty and SKIP_EXISTING:\n",
    "    episode_data = existing.iloc[0].to_dict()\n",
    "    episode_id = episode_data['id']\n",
    "    print(f\"Episode already exists: {episode_data['title']}\")\n",
    "else:\n",
    "    print(f\"Downloading audio from: {YOUTUBE_URL}\")\n",
    "    \n",
    "    # Download with yt-dlp\n",
    "    output_path = os.path.join(audio_dir, f'{video_id}.mp3')\n",
    "    \n",
    "    ydl_opts = {\n",
    "        'format': 'bestaudio/best',\n",
    "        'postprocessors': [{\n",
    "            'key': 'FFmpegExtractAudio',\n",
    "            'preferredcodec': 'mp3',\n",
    "            'preferredquality': '192',\n",
    "        }],\n",
    "        'outtmpl': output_path.replace('.mp3', '.%(ext)s'),\n",
    "        'quiet': True,\n",
    "        'no_warnings': True,\n",
    "    }\n",
    "    \n",
    "    try:\n",
    "        with yt_dlp.YoutubeDL(ydl_opts) as ydl:\n",
    "            info = ydl.extract_info(YOUTUBE_URL, download=True)\n",
    "            \n",
    "        # Create episode record\n",
    "        episode_id = str(uuid.uuid4())\n",
    "        episode_data = {\n",
    "            'id': episode_id,\n",
    "            'title': info.get('title', 'Unknown Title'),\n",
    "            'youtube_video_id': video_id,\n",
    "            'youtube_url': YOUTUBE_URL,\n",
    "            'duration': info.get('duration', 0),\n",
    "            'published_at': datetime.now().isoformat(),\n",
    "            'status': 'downloaded',\n",
    "            'audio_file_path': output_path,\n",
    "            'summary': '',\n",
    "            'is_processed': False\n",
    "        }\n",
    "        \n",
    "        # Save to CSV\n",
    "        new_episode_df = pd.DataFrame([episode_data])\n",
    "        episodes_df = pd.concat([episodes_df, new_episode_df], ignore_index=True)\n",
    "        episodes_df.to_csv(csv_files['episodes'], index=False)\n",
    "        \n",
    "        print(f\"Downloaded: {episode_data['title']}\")\n",
    "    except Exception as e:\n",
    "        print(f\"Download error: {e}\")\n",
    "        episode_id = None\n",
    "\n",
    "# Display episode info\n",
    "if 'episode_id' in locals() and episode_id:\n",
    "    display(HTML(f\"\"\"\n",
    "    <div style='background: #f8f9fa; padding: 20px; border-radius: 10px; margin: 10px 0;'>\n",
    "        <h4 style='margin: 0 0 10px 0;'>Episode Information</h4>\n",
    "        <p><strong>Title:</strong> {episode_data['title']}</p>\n",
    "        <p><strong>YouTube ID:</strong> {video_id}</p>\n",
    "        <p><strong>Duration:</strong> {episode_data['duration']} seconds</p>\n",
    "        <p><strong>Status:</strong> {episode_data['status']}</p>\n",
    "    </div>\n",
    "    \"\"\"))\n",
    "else:\n",
    "    print(\"Failed to download or load episode\")"
   ]
  },
  {
   "cell_type": "markdown",
   "metadata": {},
   "source": [
    "## Step 2: Transcription"
   ]
  },
  {
   "cell_type": "code",
   "execution_count": 6,
   "metadata": {},
   "outputs": [
    {
     "name": "stdout",
     "output_type": "stream",
     "text": [
      "Success: Found existing transcription with 19 segments\n"
     ]
    },
    {
     "data": {
      "text/markdown": [
       "### Transcript Sample"
      ],
      "text/plain": [
       "<IPython.core.display.Markdown object>"
      ]
     },
     "metadata": {},
     "output_type": "display_data"
    },
    {
     "data": {
      "text/html": [
       "<div>\n",
       "<style scoped>\n",
       "    .dataframe tbody tr th:only-of-type {\n",
       "        vertical-align: middle;\n",
       "    }\n",
       "\n",
       "    .dataframe tbody tr th {\n",
       "        vertical-align: top;\n",
       "    }\n",
       "\n",
       "    .dataframe thead th {\n",
       "        text-align: right;\n",
       "    }\n",
       "</style>\n",
       "<table border=\"1\" class=\"dataframe\">\n",
       "  <thead>\n",
       "    <tr style=\"text-align: right;\">\n",
       "      <th></th>\n",
       "      <th>start_time</th>\n",
       "      <th>speaker</th>\n",
       "      <th>display_text</th>\n",
       "    </tr>\n",
       "  </thead>\n",
       "  <tbody>\n",
       "    <tr>\n",
       "      <th>0</th>\n",
       "      <td>0.16</td>\n",
       "      <td>Speaker A</td>\n",
       "      <td>Did you just say that applications as agents?</td>\n",
       "    </tr>\n",
       "    <tr>\n",
       "      <th>1</th>\n",
       "      <td>3.60</td>\n",
       "      <td>Speaker B</td>\n",
       "      <td>Like yeah, it's kind of like an agent kind of ...</td>\n",
       "    </tr>\n",
       "    <tr>\n",
       "      <th>2</th>\n",
       "      <td>36.38</td>\n",
       "      <td>Speaker A</td>\n",
       "      <td>Tom, I mentioned to you I like to demo these L...</td>\n",
       "    </tr>\n",
       "    <tr>\n",
       "      <th>3</th>\n",
       "      <td>74.38</td>\n",
       "      <td>Speaker B</td>\n",
       "      <td>And Tool Swarm transfer to SQL Agent. Okay, we...</td>\n",
       "    </tr>\n",
       "    <tr>\n",
       "      <th>4</th>\n",
       "      <td>84.02</td>\n",
       "      <td>Speaker A</td>\n",
       "      <td>Yeah, so it called my tool Swarm as a tool. So...</td>\n",
       "    </tr>\n",
       "  </tbody>\n",
       "</table>\n",
       "</div>"
      ],
      "text/plain": [
       "   start_time    speaker                                       display_text\n",
       "0        0.16  Speaker A      Did you just say that applications as agents?\n",
       "1        3.60  Speaker B  Like yeah, it's kind of like an agent kind of ...\n",
       "2       36.38  Speaker A  Tom, I mentioned to you I like to demo these L...\n",
       "3       74.38  Speaker B  And Tool Swarm transfer to SQL Agent. Okay, we...\n",
       "4       84.02  Speaker A  Yeah, so it called my tool Swarm as a tool. So..."
      ]
     },
     "metadata": {},
     "output_type": "display_data"
    },
    {
     "data": {
      "text/markdown": [
       "### Full Transcript"
      ],
      "text/plain": [
       "<IPython.core.display.Markdown object>"
      ]
     },
     "metadata": {},
     "output_type": "display_data"
    },
    {
     "data": {
      "text/html": [
       "\n",
       "        <div style='margin: 10px 0; padding: 10px; background: #f5f5f5; border-left: 3px solid #2196F3;'>\n",
       "            <strong>Speaker A</strong> <span style='color: #666; font-size: 12px;'>(0.2s)</span><br>\n",
       "            Did you just say that applications as agents?\n",
       "        </div>\n",
       "        "
      ],
      "text/plain": [
       "<IPython.core.display.HTML object>"
      ]
     },
     "metadata": {},
     "output_type": "display_data"
    },
    {
     "data": {
      "text/html": [
       "\n",
       "        <div style='margin: 10px 0; padding: 10px; background: #f5f5f5; border-left: 3px solid #2196F3;'>\n",
       "            <strong>Speaker B</strong> <span style='color: #666; font-size: 12px;'>(3.6s)</span><br>\n",
       "            Like yeah, it's kind of like an agent kind of application effectively. So I'm thinking specifically of the blackrock guys. In their talk they basically said to build like it was powered by Lang LangChain solutions that any engineering team could build on top of and integrate with across all of their different other applications within their organization. So it's kind of like an internal agentic solution that could be engaged with by other engineering teams and they had to build an interface in and out of it so that it could be maintained and on top of their basically within their infrastructure stack.\n",
       "        </div>\n",
       "        "
      ],
      "text/plain": [
       "<IPython.core.display.HTML object>"
      ]
     },
     "metadata": {},
     "output_type": "display_data"
    },
    {
     "data": {
      "text/html": [
       "\n",
       "        <div style='margin: 10px 0; padding: 10px; background: #f5f5f5; border-left: 3px solid #2196F3;'>\n",
       "            <strong>Speaker A</strong> <span style='color: #666; font-size: 12px;'>(36.4s)</span><br>\n",
       "            Tom, I mentioned to you I like to demo these Langraph agents. We've talked about A2A all these different design patterns and so I'll just jump to something that I'm excited about. I have this in Claude Desktop. So Claude Desktop. Claude is an agent itself. Right. It has, it has no prior knowledge of my tool Swarm agents, but with model context protocol it does. Right. So I just enabled that tool call.\n",
       "        </div>\n",
       "        "
      ],
      "text/plain": [
       "<IPython.core.display.HTML object>"
      ]
     },
     "metadata": {},
     "output_type": "display_data"
    },
    {
     "data": {
      "text/html": [
       "\n",
       "        <div style='margin: 10px 0; padding: 10px; background: #f5f5f5; border-left: 3px solid #2196F3;'>\n",
       "            <strong>Speaker B</strong> <span style='color: #666; font-size: 12px;'>(74.4s)</span><br>\n",
       "            And Tool Swarm transfer to SQL Agent. Okay, we'll see if it gets at the first try.\n",
       "        </div>\n",
       "        "
      ],
      "text/plain": [
       "<IPython.core.display.HTML object>"
      ]
     },
     "metadata": {},
     "output_type": "display_data"
    },
    {
     "data": {
      "text/html": [
       "\n",
       "        <div style='margin: 10px 0; padding: 10px; background: #f5f5f5; border-left: 3px solid #2196F3;'>\n",
       "            <strong>Speaker A</strong> <span style='color: #666; font-size: 12px;'>(84.0s)</span><br>\n",
       "            Yeah, so it called my tool Swarm as a tool. So it's calling the Landgraph agent as an MCP tool. And then if we over here on the right, you can see these traces. So yeah, I guess I don't know. The, the point is it, it can get really complex and multi layered and I don't think you necessarily have to. And to me it's more about, more about like specialized, like very specialized simple agents and very effective tools.\n",
       "        </div>\n",
       "        "
      ],
      "text/plain": [
       "<IPython.core.display.HTML object>"
      ]
     },
     "metadata": {},
     "output_type": "display_data"
    },
    {
     "data": {
      "text/markdown": [
       "*... and 14 more segments*"
      ],
      "text/plain": [
       "<IPython.core.display.Markdown object>"
      ]
     },
     "metadata": {},
     "output_type": "display_data"
    },
    {
     "data": {
      "text/markdown": [
       "### Speaker Statistics"
      ],
      "text/plain": [
       "<IPython.core.display.Markdown object>"
      ]
     },
     "metadata": {},
     "output_type": "display_data"
    },
    {
     "name": "stdout",
     "output_type": "stream",
     "text": [
      "  Speaker A: 409.4 seconds (6.8 minutes)\n",
      "  Speaker B: 314.5 seconds (5.2 minutes)\n"
     ]
    },
    {
     "data": {
      "image/png": "[encoded data removed]",
      "text/plain": [
       "<Figure size 800x500 with 1 Axes>"
      ]
     },
     "metadata": {},
     "output_type": "display_data"
    }
   ],
   "source": [
    "# Transcribe audio\n",
    "import assemblyai as aai\n",
    "\n",
    "if 'episode_id' not in locals():\n",
    "    print(\"Error: Please run the Audio Download step first\")\n",
    "    segments = []\n",
    "elif episode_id:\n",
    "    # Check existing segments\n",
    "    segments_df = pd.read_csv(csv_files['segments'])\n",
    "    existing_segments = segments_df[segments_df['episode_id'] == episode_id]\n",
    "    \n",
    "    if not existing_segments.empty and SKIP_EXISTING:\n",
    "        print(f\"Success: Found existing transcription with {len(existing_segments)} segments\")\n",
    "        segments = existing_segments.to_dict('records')\n",
    "    else:\n",
    "        print(\"Starting transcription with AssemblyAI...\")\n",
    "        \n",
    "        # Configure AssemblyAI\n",
    "        aai.settings.api_key = os.getenv('ASSEMBLYAI_API_KEY')\n",
    "        \n",
    "        audio_path = episode_data['audio_file_path']\n",
    "        if os.path.exists(audio_path):\n",
    "            try:\n",
    "                # Transcribe\n",
    "                transcriber = aai.Transcriber()\n",
    "                config = aai.TranscriptionConfig(\n",
    "                    speaker_labels=True,\n",
    "                    speakers_expected=2\n",
    "                )\n",
    "                \n",
    "                print(\"Uploading and transcribing (this may take a few minutes)...\")\n",
    "                transcript = transcriber.transcribe(audio_path, config=config)\n",
    "                \n",
    "                if transcript.status == aai.TranscriptStatus.error:\n",
    "                    print(f\"Error: Transcription error: {transcript.error}\")\n",
    "                    segments = []\n",
    "                else:\n",
    "                    # Process utterances\n",
    "                    segments = []\n",
    "                    for utterance in transcript.utterances:\n",
    "                        segment = {\n",
    "                            'id': str(uuid.uuid4()),\n",
    "                            'episode_id': episode_id,\n",
    "                            'start_time': utterance.start / 1000,\n",
    "                            'end_time': utterance.end / 1000,\n",
    "                            'raw_text': utterance.text,\n",
    "                            'display_text': utterance.text,\n",
    "                            'speaker': f\"Speaker {utterance.speaker}\",\n",
    "                            'confidence': getattr(utterance, 'confidence', 0.9),\n",
    "                            'duration': (utterance.end - utterance.start) / 1000\n",
    "                        }\n",
    "                        segments.append(segment)\n",
    "                    \n",
    "                    # Save to CSV\n",
    "                    if segments:\n",
    "                        new_segments_df = pd.DataFrame(segments)\n",
    "                        segments_df = pd.concat([segments_df, new_segments_df], ignore_index=True)\n",
    "                        segments_df.to_csv(csv_files['segments'], index=False)\n",
    "                        print(f\"Success: Transcription complete! {len(segments)} segments saved\")\n",
    "                    \n",
    "            except Exception as e:\n",
    "                print(f\"Error: Transcription error: {e}\")\n",
    "                segments = []\n",
    "        else:\n",
    "            print(f\"Error: Audio file not found: {audio_path}\")\n",
    "            segments = []\n",
    "else:\n",
    "    segments = []\n",
    "\n",
    "# Display transcript\n",
    "if segments:\n",
    "    # Apply demo limit\n",
    "    display_segments = segments[:MAX_SEGMENTS] if DEMO_MODE else segments\n",
    "    \n",
    "    if len(display_segments) < len(segments):\n",
    "        print(f\"\\nDemo mode: Showing first {MAX_SEGMENTS} of {len(segments)} segments\")\n",
    "    \n",
    "    # Create DataFrame for display\n",
    "    df_display = pd.DataFrame(display_segments)\n",
    "    \n",
    "    # Show sample\n",
    "    display(Markdown(\"### Transcript Sample\"))\n",
    "    display(df_display[['start_time', 'speaker', 'display_text']].head())\n",
    "    \n",
    "    # Show full transcript nicely\n",
    "    display(Markdown(\"### Full Transcript\"))\n",
    "    for i, segment in enumerate(display_segments):\n",
    "        if i >= 5:\n",
    "            display(Markdown(f\"*... and {len(segments) - 5} more segments*\"))\n",
    "            break\n",
    "        \n",
    "        display(HTML(f\"\"\"\n",
    "        <div style='margin: 10px 0; padding: 10px; background: #f5f5f5; border-left: 3px solid #2196F3;'>\n",
    "            <strong>{segment['speaker']}</strong> <span style='color: #666; font-size: 12px;'>({segment['start_time']:.1f}s)</span><br>\n",
    "            {segment['display_text']}\n",
    "        </div>\n",
    "        \"\"\"))\n",
    "    \n",
    "    # Speaker statistics\n",
    "    df_stats = pd.DataFrame(segments)\n",
    "    speaker_stats = df_stats.groupby('speaker')['duration'].sum()\n",
    "    \n",
    "    display(Markdown(\"### Speaker Statistics\"))\n",
    "    for speaker, duration in speaker_stats.items():\n",
    "        print(f\"  {speaker}: {duration:.1f} seconds ({duration/60:.1f} minutes)\")\n",
    "    \n",
    "    # Pie chart\n",
    "    plt.figure(figsize=(8, 5))\n",
    "    plt.pie(speaker_stats.values, labels=speaker_stats.index, autopct='%1.1f%%')\n",
    "    plt.title('Speaker Time Distribution')\n",
    "    plt.show()\n",
    "else:\n",
    "    print(\"\\nWarning: No segments to display\")"
   ]
  },
  {
   "cell_type": "code",
   "execution_count": 7,
   "metadata": {},
   "outputs": [
    {
     "name": "stdout",
     "output_type": "stream",
     "text": [
      "Success: Summary already exists\n"
     ]
    },
    {
     "data": {
      "text/html": [
       "\n",
       "        <div style='background: #f0f8ff; padding: 20px; border-radius: 10px; border: 2px solid #4caf50;'>\n",
       "            <h4 style='color: #2e7d32; margin-top: 0;'>Episode Summary</h4>\n",
       "            <p style='line-height: 1.6;'>In this podcast, two experts delve into the evolving landscape of AI agents and their integration within organizational systems. They discuss how applications can function as autonomous agents, referencing BlackRock’s LangChain-powered internal solutions that enable cross-team collaboration via agentic interfaces. A key highlight is the demonstration of Claude Desktop leveraging the Model Context Protocol (MCP) to enable agents to interact seamlessly with external tools, exemplified by “tool Swarm” acting as an MCP tool for enhanced composability. This architecture allows specialized, standalone agents to coordinate workflows without monolithic coding, empowering users to integrate customized agents across platforms with authentication and orchestration handled by MCP clients. The conversation underscores a paradigm shift towards modular, interoperable AI agents that simplify complex multi-agent systems and open new possibilities like marketplace publishing and tailored agent workflows.</p>\n",
       "            <p style='color: #666; font-size: 14px; margin-top: 15px;'>\n",
       "                <strong>Word count:</strong> 131 words\n",
       "            </p>\n",
       "        </div>\n",
       "        "
      ],
      "text/plain": [
       "<IPython.core.display.HTML object>"
      ]
     },
     "metadata": {},
     "output_type": "display_data"
    }
   ],
   "source": [
    "# Generate summary\n",
    "from openai import OpenAI\n",
    "\n",
    "# Check if required variables exist\n",
    "if 'episode_id' not in locals():\n",
    "    print(\"Error: Please run the Audio Download step first\")\n",
    "elif 'segments' not in locals():\n",
    "    print(\"Error: Please run the Transcription step first\")\n",
    "elif episode_id and segments:\n",
    "    # Check if summary exists\n",
    "    episodes_df = pd.read_csv(csv_files['episodes'])\n",
    "    episode_row = episodes_df[episodes_df['id'] == episode_id].iloc[0]\n",
    "    \n",
    "    # Handle potential NaN or empty values\n",
    "    existing_summary = episode_row.get('summary', '')\n",
    "    if pd.isna(existing_summary) or existing_summary == '':\n",
    "        existing_summary = None\n",
    "    else:\n",
    "        existing_summary = str(existing_summary)\n",
    "    \n",
    "    if existing_summary and SKIP_EXISTING:\n",
    "        print(\"Success: Summary already exists\")\n",
    "        summary = existing_summary\n",
    "    else:\n",
    "        print(\"Generating episode summary with gpt-4.1-mini...\")\n",
    "        \n",
    "        client = OpenAI(api_key=os.getenv('OPENAI_API_KEY'))\n",
    "        \n",
    "        # Combine transcript (limit for demo)\n",
    "        transcript_segments = segments[:20] if DEMO_MODE else segments[:50]\n",
    "        transcript = \"\\n\".join([f\"{s['speaker']}: {s['display_text']}\" for s in transcript_segments])\n",
    "        \n",
    "        try:\n",
    "            response = client.chat.completions.create(\n",
    "                model=\"gpt-4.1-mini\",\n",
    "                messages=[\n",
    "                    {\"role\": \"system\", \"content\": \"You are a podcast summarizer. Create a concise, engaging summary.\"},\n",
    "                    {\"role\": \"user\", \"content\": f\"Summarize this podcast transcript:\\n\\n{transcript[:4000]}\"}\n",
    "                ],\n",
    "                max_tokens=300\n",
    "            )\n",
    "            \n",
    "            summary = response.choices[0].message.content\n",
    "            \n",
    "            # Update CSV\n",
    "            episodes_df.loc[episodes_df['id'] == episode_id, 'summary'] = summary\n",
    "            episodes_df.to_csv(csv_files['episodes'], index=False)\n",
    "            \n",
    "            print(\"Success: Summary generated!\")\n",
    "            \n",
    "        except Exception as e:\n",
    "            print(f\"Error: Summary error: {e}\")\n",
    "            summary = \"Error generating summary\"\n",
    "    \n",
    "    # Display summary\n",
    "    if 'summary' in locals() and summary:\n",
    "        display(HTML(f\"\"\"\n",
    "        <div style='background: #f0f8ff; padding: 20px; border-radius: 10px; border: 2px solid #4caf50;'>\n",
    "            <h4 style='color: #2e7d32; margin-top: 0;'>Episode Summary</h4>\n",
    "            <p style='line-height: 1.6;'>{summary}</p>\n",
    "            <p style='color: #666; font-size: 14px; margin-top: 15px;'>\n",
    "                <strong>Word count:</strong> {len(str(summary).split())} words\n",
    "            </p>\n",
    "        </div>\n",
    "        \"\"\"))\n",
    "else:\n",
    "    print(\"Warning: No episode or segments available to summarize\")"
   ]
  },
  {
   "cell_type": "markdown",
   "metadata": {},
   "source": [
    "## Step 3: Generate Summary"
   ]
  },
  {
   "cell_type": "code",
   "execution_count": 8,
   "metadata": {},
   "outputs": [
    {
     "name": "stdout",
     "output_type": "stream",
     "text": [
      "Success: Found 9 existing insights\n"
     ]
    },
    {
     "data": {
      "text/markdown": [
       "### Extracted Insights"
      ],
      "text/plain": [
       "<IPython.core.display.Markdown object>"
      ]
     },
     "metadata": {},
     "output_type": "display_data"
    },
    {
     "name": "stdout",
     "output_type": "stream",
     "text": [
      "\n",
      "Insights by category:\n",
      "   Technical Insights: 4\n",
      "   Frameworks & Exercises: 3\n",
      "   Products: 1\n",
      "   Business Ideas: 1\n"
     ]
    },
    {
     "data": {
      "text/html": [
       "<h4>Technical Insights (4)</h4>"
      ],
      "text/plain": [
       "<IPython.core.display.HTML object>"
      ]
     },
     "metadata": {},
     "output_type": "display_data"
    },
    {
     "data": {
      "text/html": [
       "\n",
       "                <div style='background: #f5f5f5; padding: 10px; margin: 5px 0; \n",
       "                            border-left: 3px solid #2196F3; border-radius: 5px;'>\n",
       "                    <p style='margin: 0;'>Publishing agents as MCP tools allows for enhanced composability and interoperability, enabling agents to be accessed through various clients and orchestrated to perform sequential tasks within workflows.</p>\n",
       "                    <small style='color: #666;'>Confidence: 0.90</small>\n",
       "                </div>\n",
       "                "
      ],
      "text/plain": [
       "<IPython.core.display.HTML object>"
      ]
     },
     "metadata": {},
     "output_type": "display_data"
    },
    {
     "data": {
      "text/html": [
       "\n",
       "                <div style='background: #f5f5f5; padding: 10px; margin: 5px 0; \n",
       "                            border-left: 3px solid #2196F3; border-radius: 5px;'>\n",
       "                    <p style='margin: 0;'>Using agents that perform deep research locally (e.g., Ollama on desktop) and only send final summarized outputs to a main language model agent (e.g., Claude) helps save tokens and mitigates the issue of context window limits in multi-agent systems.</p>\n",
       "                    <small style='color: #666;'>Confidence: 0.90</small>\n",
       "                </div>\n",
       "                "
      ],
      "text/plain": [
       "<IPython.core.display.HTML object>"
      ]
     },
     "metadata": {},
     "output_type": "display_data"
    },
    {
     "data": {
      "text/html": [
       "\n",
       "                <div style='background: #f5f5f5; padding: 10px; margin: 5px 0; \n",
       "                            border-left: 3px solid #2196F3; border-radius: 5px;'>\n",
       "                    <p style='margin: 0;'>A beneficial multi-agent system design involves handoffs where complex tasks are executed in virtual environments by specialized agents (e.g., running Python for data analysis) and only the concise results are communicated back to the main agent, optimizing overall efficiency.</p>\n",
       "                    <small style='color: #666;'>Confidence: 0.90</small>\n",
       "                </div>\n",
       "                "
      ],
      "text/plain": [
       "<IPython.core.display.HTML object>"
      ]
     },
     "metadata": {},
     "output_type": "display_data"
    },
    {
     "data": {
      "text/html": [
       "<h4>Frameworks & Exercises (3)</h4>"
      ],
      "text/plain": [
       "<IPython.core.display.HTML object>"
      ]
     },
     "metadata": {},
     "output_type": "display_data"
    },
    {
     "data": {
      "text/html": [
       "\n",
       "                <div style='background: #f5f5f5; padding: 10px; margin: 5px 0; \n",
       "                            border-left: 3px solid #2196F3; border-radius: 5px;'>\n",
       "                    <p style='margin: 0;'>LangChain solutions enable engineering teams to build internal agentic applications that integrate across organizational infrastructure, facilitating maintainable and scalable agent interfaces.</p>\n",
       "                    <small style='color: #666;'>Confidence: 0.90</small>\n",
       "                </div>\n",
       "                "
      ],
      "text/plain": [
       "<IPython.core.display.HTML object>"
      ]
     },
     "metadata": {},
     "output_type": "display_data"
    },
    {
     "data": {
      "text/html": [
       "\n",
       "                <div style='background: #f5f5f5; padding: 10px; margin: 5px 0; \n",
       "                            border-left: 3px solid #2196F3; border-radius: 5px;'>\n",
       "                    <p style='margin: 0;'>Agent architectures can be composed of specialized simple agents each responsible for distinct tasks (e.g., research, data analysis), coordinated by an orchestrating agent to build complex workflows.</p>\n",
       "                    <small style='color: #666;'>Confidence: 0.90</small>\n",
       "                </div>\n",
       "                "
      ],
      "text/plain": [
       "<IPython.core.display.HTML object>"
      ]
     },
     "metadata": {},
     "output_type": "display_data"
    },
    {
     "data": {
      "text/html": [
       "\n",
       "                <div style='background: #f5f5f5; padding: 10px; margin: 5px 0; \n",
       "                            border-left: 3px solid #2196F3; border-radius: 5px;'>\n",
       "                    <p style='margin: 0;'>The discussion highlights the challenge of context degradation in multi-agent or multi-component architectures, where separate agents lose context if not within the same operational flow, leading to compounding errors and reduced performance quality.</p>\n",
       "                    <small style='color: #666;'>Confidence: 0.95</small>\n",
       "                </div>\n",
       "                "
      ],
      "text/plain": [
       "<IPython.core.display.HTML object>"
      ]
     },
     "metadata": {},
     "output_type": "display_data"
    },
    {
     "data": {
      "text/html": [
       "<h4>Products (1)</h4>"
      ],
      "text/plain": [
       "<IPython.core.display.HTML object>"
      ]
     },
     "metadata": {},
     "output_type": "display_data"
    },
    {
     "data": {
      "text/html": [
       "\n",
       "                <div style='background: #f5f5f5; padding: 10px; margin: 5px 0; \n",
       "                            border-left: 3px solid #2196F3; border-radius: 5px;'>\n",
       "                    <p style='margin: 0;'>Claude Desktop acts as an agent that can leverage the Model Context Protocol (MCP) to integrate and call other specialized agents like the Langraph agent, enabling complex multi-layered interactions.</p>\n",
       "                    <small style='color: #666;'>Confidence: 0.95</small>\n",
       "                </div>\n",
       "                "
      ],
      "text/plain": [
       "<IPython.core.display.HTML object>"
      ]
     },
     "metadata": {},
     "output_type": "display_data"
    },
    {
     "data": {
      "text/html": [
       "<h4>Business Ideas (1)</h4>"
      ],
      "text/plain": [
       "<IPython.core.display.HTML object>"
      ]
     },
     "metadata": {},
     "output_type": "display_data"
    },
    {
     "data": {
      "text/html": [
       "\n",
       "                <div style='background: #f5f5f5; padding: 10px; margin: 5px 0; \n",
       "                            border-left: 3px solid #2196F3; border-radius: 5px;'>\n",
       "                    <p style='margin: 0;'>Designing custom agents for clients and enabling their seamless integration via MCP with authentication and authorization can create new service opportunities and personalized AI experiences.</p>\n",
       "                    <small style='color: #666;'>Confidence: 0.85</small>\n",
       "                </div>\n",
       "                "
      ],
      "text/plain": [
       "<IPython.core.display.HTML object>"
      ]
     },
     "metadata": {},
     "output_type": "display_data"
    },
    {
     "data": {
      "image/png": "[encoded data removed]",
      "text/plain": [
       "<Figure size 1000x500 with 1 Axes>"
      ]
     },
     "metadata": {},
     "output_type": "display_data"
    }
   ],
   "source": [
    "# Extract insights - Enhanced with better debugging\n",
    "from openai import OpenAI\n",
    "import traceback\n",
    "\n",
    "# Check if required variables exist\n",
    "if 'episode_id' not in locals():\n",
    "    print(\"Error: Please run the Audio Download step first\")\n",
    "elif 'segments' not in locals() or not segments:\n",
    "    print(\"Error: Please run the Transcription step first\")\n",
    "elif episode_id and segments:\n",
    "    # Check existing insights\n",
    "    insights_df = pd.read_csv(csv_files['insights'])\n",
    "    existing_insights = insights_df[insights_df['episode_id'] == episode_id]\n",
    "    \n",
    "    if not existing_insights.empty and SKIP_EXISTING:\n",
    "        print(f\"Success: Found {len(existing_insights)} existing insights\")\n",
    "        insights = existing_insights.to_dict('records')\n",
    "    else:\n",
    "        print(\"Extracting insights with GPT-4...\")\n",
    "        print(f\"Processing {len(segments)} segments in batches...\")\n",
    "        \n",
    "        client = OpenAI(api_key=os.getenv('OPENAI_API_KEY'))\n",
    "        insights = []\n",
    "        \n",
    "        # Process in batches\n",
    "        batch_size = 10\n",
    "        max_batches = 3 if DEMO_MODE else 10\n",
    "        \n",
    "        for i in range(0, min(len(segments), batch_size * max_batches), batch_size):\n",
    "            batch = segments[i:i+batch_size]\n",
    "            batch_num = i//batch_size + 1\n",
    "            print(f\"\\nProcessing batch {batch_num}/{min(len(segments)//batch_size + 1, max_batches)}...\")\n",
    "            \n",
    "            # Combine transcript\n",
    "            transcript = \"\\n\".join([f\"{s['speaker']}: {s['display_text']}\" for s in batch])\n",
    "            print(f\"   Transcript length: {len(transcript)} chars\")\n",
    "            \n",
    "            try:\n",
    "                print(\"   Calling gpt-4.1-mini...\")\n",
    "                response = client.chat.completions.create(\n",
    "                    model=\"gpt-4.1-mini\",\n",
    "                    messages=[\n",
    "                        {\"role\": \"system\", \"content\": \"\"\"You are analyzing a podcast transcript. Extract key insights and return them as JSON.\n",
    "                        \n",
    "                        You must return a valid JSON object with an 'insights' array. Each insight should have:\n",
    "                        - category: one of \"Frameworks & Exercises\", \"Products\", \"Business Ideas\", \"Technical Insights\"\n",
    "                        - content: the insight text (1-2 clear sentences describing the insight)\n",
    "                        - confidence: confidence score between 0.0 and 1.0\n",
    "                        \n",
    "                        Focus on:\n",
    "                        - Key concepts or frameworks discussed\n",
    "                        - Product mentions and their use cases\n",
    "                        - Business ideas or opportunities mentioned\n",
    "                        - Technical insights or best practices\n",
    "                        \n",
    "                        Example response:\n",
    "                        {\n",
    "                          \"insights\": [\n",
    "                            {\n",
    "                              \"category\": \"Products\",\n",
    "                              \"content\": \"The speakers discuss OpenAI's new ChatGPT connectors which enable read-only access to external data sources.\",\n",
    "                              \"confidence\": 0.9\n",
    "                            },\n",
    "                            {\n",
    "                              \"category\": \"Technical Insights\",\n",
    "                              \"content\": \"The connectors are designed to be search-only to better serve enterprise security requirements.\",\n",
    "                              \"confidence\": 0.85\n",
    "                            }\n",
    "                          ]\n",
    "                        }\n",
    "                        \n",
    "                        Return ONLY the JSON object, no other text.\"\"\"},\n",
    "                        {\"role\": \"user\", \"content\": f\"Extract insights from this podcast segment:\\n\\n{transcript[:3500]}\"}\n",
    "                    ],\n",
    "                    temperature=0.2\n",
    "                )\n",
    "                \n",
    "                print(\"   Got response from gpt-4.1-mini\")\n",
    "                response_text = response.choices[0].message.content\n",
    "                print(f\"   Response preview: {response_text[:200]}...\")\n",
    "                \n",
    "                insights_data = json.loads(response_text)\n",
    "                batch_insights = insights_data.get('insights', [])\n",
    "                print(f\"   Success: Found {len(batch_insights)} insights in batch {batch_num}\")\n",
    "                \n",
    "                # Add insights with proper metadata\n",
    "                for insight in batch_insights:\n",
    "                    if insight.get('content'):  # Only add if content exists\n",
    "                        insights.append({\n",
    "                            'id': str(uuid.uuid4()),\n",
    "                            'episode_id': episode_id,\n",
    "                            'category': insight.get('category', 'Business Ideas'),\n",
    "                            'content': insight.get('content', ''),\n",
    "                            'confidence_score': float(insight.get('confidence', 0.8)),\n",
    "                            'segment_start': batch[0]['start_time'],\n",
    "                            'segment_end': batch[-1]['end_time']\n",
    "                        })\n",
    "                        \n",
    "            except json.JSONDecodeError as e:\n",
    "                print(f\"   Warning: JSON parsing error in batch {batch_num}: {e}\")\n",
    "                print(f\"   Response was: {response_text[:500]}...\")\n",
    "            except Exception as e:\n",
    "                print(f\"   Warning: Error in batch {batch_num}: {type(e).__name__}: {e}\")\n",
    "                traceback.print_exc()\n",
    "        \n",
    "        print(f\"\\nTotal insights extracted: {len(insights)}\")\n",
    "        \n",
    "        # Save insights\n",
    "        if insights:\n",
    "            new_insights_df = pd.DataFrame(insights)\n",
    "            # Append to existing insights\n",
    "            if not insights_df.empty:\n",
    "                insights_df = pd.concat([insights_df, new_insights_df], ignore_index=True)\n",
    "            else:\n",
    "                insights_df = new_insights_df\n",
    "            insights_df.to_csv(csv_files['insights'], index=False)\n",
    "            print(f\"Success: Saved {len(insights)} insights to CSV!\")\n",
    "            \n",
    "            # Show sample of saved data\n",
    "            print(\"\\nSample of saved insights:\")\n",
    "            for i, insight in enumerate(insights[:3]):\n",
    "                print(f\"   {i+1}. [{insight['category']}] {insight['content'][:100]}...\")\n",
    "        else:\n",
    "            print(\"Warning: No insights were extracted. This could be due to:\")\n",
    "            print(\"   - API key issues\")\n",
    "            print(\"   - Rate limiting\")\n",
    "            print(\"   - Transcript content not suitable for insights\")\n",
    "            print(\"\\nDebug info:\")\n",
    "            print(f\"   - Segments available: {len(segments)}\")\n",
    "            print(f\"   - OpenAI API key: {'Set' if os.getenv('OPENAI_API_KEY') else 'Not set'}\")\n",
    "    \n",
    "    # Display insights\n",
    "    if 'insights' in locals() and insights:\n",
    "        display_insights = insights[:MAX_INSIGHTS] if DEMO_MODE else insights\n",
    "        \n",
    "        display(Markdown(\"### Extracted Insights\"))\n",
    "        \n",
    "        # Group by category\n",
    "        df_insights = pd.DataFrame(display_insights)\n",
    "        categories = df_insights['category'].value_counts()\n",
    "        \n",
    "        print(f\"\\nInsights by category:\")\n",
    "        for category, count in categories.items():\n",
    "            print(f\"   {category}: {count}\")\n",
    "        \n",
    "        # Display insights by category\n",
    "        for category, count in categories.items():\n",
    "            display(HTML(f\"<h4>{category} ({count})</h4>\"))\n",
    "            \n",
    "            cat_insights = df_insights[df_insights['category'] == category].head(3)\n",
    "            for _, insight in cat_insights.iterrows():\n",
    "                display(HTML(f\"\"\"\n",
    "                <div style='background: #f5f5f5; padding: 10px; margin: 5px 0; \n",
    "                            border-left: 3px solid #2196F3; border-radius: 5px;'>\n",
    "                    <p style='margin: 0;'>{insight['content']}</p>\n",
    "                    <small style='color: #666;'>Confidence: {insight['confidence_score']:.2f}</small>\n",
    "                </div>\n",
    "                \"\"\"))\n",
    "        \n",
    "        # Visualize distribution\n",
    "        if not categories.empty:\n",
    "            plt.figure(figsize=(10, 5))\n",
    "            categories.plot(kind='bar')\n",
    "            plt.title('Insight Distribution by Category')\n",
    "            plt.xlabel('Category')\n",
    "            plt.ylabel('Count')\n",
    "            plt.xticks(rotation=45, ha='right')\n",
    "            plt.tight_layout()\n",
    "            plt.show()\n",
    "    else:\n",
    "        print(\"\\nNo insights to display. Check the debug output above.\")\n",
    "else:\n",
    "    print(\"Warning: Missing required data for insight extraction\")"
   ]
  },
  {
   "cell_type": "markdown",
   "metadata": {},
   "source": [
    "## Step 4: Extract Insights"
   ]
  },
  {
   "cell_type": "code",
   "execution_count": 9,
   "metadata": {},
   "outputs": [
    {
     "name": "stdout",
     "output_type": "stream",
     "text": [
      "Extracting products from episode content...\n",
      "Searching for 501 known products...\n",
      "\n",
      "Checking insights for product mentions...\n",
      "\n",
      "Checking 19 transcript segments...\n",
      "\n",
      "Found 80 total product mentions\n",
      "30 unique products found\n",
      "Success: Updated 30 existing products\n",
      "\n",
      "Success: Products extraction complete!\n",
      "   - Total unique products: 30\n",
      "   - Total mentions: 80\n"
     ]
    },
    {
     "data": {
      "text/markdown": [
       "### Products Mentioned"
      ],
      "text/plain": [
       "<IPython.core.display.Markdown object>"
      ]
     },
     "metadata": {},
     "output_type": "display_data"
    },
    {
     "data": {
      "text/markdown": [
       "#### Top Products by Mentions:"
      ],
      "text/plain": [
       "<IPython.core.display.Markdown object>"
      ]
     },
     "metadata": {},
     "output_type": "display_data"
    },
    {
     "data": {
      "text/html": [
       "\n",
       "            <div style='background: white; border: 1px solid #e0e0e0; border-radius: 8px; \n",
       "                        padding: 15px; margin: 10px 0; box-shadow: 0 2px 4px rgba(0,0,0,0.1);'>\n",
       "                <h5 style='margin: 0 0 10px 0; color: #333;'>\n",
       "                    1. IO \n",
       "                    <span style='background: #2196F3; color: white; padding: 2px 8px; \n",
       "                                border-radius: 12px; font-size: 12px; margin-left: 10px;'>\n",
       "                        17 mentions\n",
       "                    </span>\n",
       "                </h5>\n",
       "                <p style='color: #666; font-size: 14px; margin: 0; font-style: italic;'>\n",
       "                    \"LangChain solutions enable engineering teams to build internal agentic applications that integrate across organizational infrastructure, facilitating maintainable and scalable agent interfaces....\"\n",
       "                </p>\n",
       "            </div>\n",
       "            "
      ],
      "text/plain": [
       "<IPython.core.display.HTML object>"
      ]
     },
     "metadata": {},
     "output_type": "display_data"
    },
    {
     "data": {
      "text/html": [
       "\n",
       "            <div style='background: white; border: 1px solid #e0e0e0; border-radius: 8px; \n",
       "                        padding: 15px; margin: 10px 0; box-shadow: 0 2px 4px rgba(0,0,0,0.1);'>\n",
       "                <h5 style='margin: 0 0 10px 0; color: #333;'>\n",
       "                    2. MCP \n",
       "                    <span style='background: #2196F3; color: white; padding: 2px 8px; \n",
       "                                border-radius: 12px; font-size: 12px; margin-left: 10px;'>\n",
       "                        9 mentions\n",
       "                    </span>\n",
       "                </h5>\n",
       "                <p style='color: #666; font-size: 14px; margin: 0; font-style: italic;'>\n",
       "                    \"Claude Desktop acts as an agent that can leverage the Model Context Protocol (MCP) to integrate and call other specialized agents like the Langraph agent, enabling complex multi-layered interactions....\"\n",
       "                </p>\n",
       "            </div>\n",
       "            "
      ],
      "text/plain": [
       "<IPython.core.display.HTML object>"
      ]
     },
     "metadata": {},
     "output_type": "display_data"
    },
    {
     "data": {
      "text/html": [
       "\n",
       "            <div style='background: white; border: 1px solid #e0e0e0; border-radius: 8px; \n",
       "                        padding: 15px; margin: 10px 0; box-shadow: 0 2px 4px rgba(0,0,0,0.1);'>\n",
       "                <h5 style='margin: 0 0 10px 0; color: #333;'>\n",
       "                    3. Flow \n",
       "                    <span style='background: #2196F3; color: white; padding: 2px 8px; \n",
       "                                border-radius: 12px; font-size: 12px; margin-left: 10px;'>\n",
       "                        6 mentions\n",
       "                    </span>\n",
       "                </h5>\n",
       "                <p style='color: #666; font-size: 14px; margin: 0; font-style: italic;'>\n",
       "                    \"Publishing agents as MCP tools allows for enhanced composability and interoperability, enabling agents to be accessed through various clients and orchestrated to perform sequential tasks within workfl...\"\n",
       "                </p>\n",
       "            </div>\n",
       "            "
      ],
      "text/plain": [
       "<IPython.core.display.HTML object>"
      ]
     },
     "metadata": {},
     "output_type": "display_data"
    },
    {
     "data": {
      "text/html": [
       "\n",
       "            <div style='background: white; border: 1px solid #e0e0e0; border-radius: 8px; \n",
       "                        padding: 15px; margin: 10px 0; box-shadow: 0 2px 4px rgba(0,0,0,0.1);'>\n",
       "                <h5 style='margin: 0 0 10px 0; color: #333;'>\n",
       "                    4. LangChain \n",
       "                    <span style='background: #2196F3; color: white; padding: 2px 8px; \n",
       "                                border-radius: 12px; font-size: 12px; margin-left: 10px;'>\n",
       "                        5 mentions\n",
       "                    </span>\n",
       "                </h5>\n",
       "                <p style='color: #666; font-size: 14px; margin: 0; font-style: italic;'>\n",
       "                    \"LangChain solutions enable engineering teams to build internal agentic applications that integrate across organizational infrastructure, facilitating maintainable and scalable agent interfaces....\"\n",
       "                </p>\n",
       "            </div>\n",
       "            "
      ],
      "text/plain": [
       "<IPython.core.display.HTML object>"
      ]
     },
     "metadata": {},
     "output_type": "display_data"
    },
    {
     "data": {
      "text/html": [
       "\n",
       "            <div style='background: white; border: 1px solid #e0e0e0; border-radius: 8px; \n",
       "                        padding: 15px; margin: 10px 0; box-shadow: 0 2px 4px rgba(0,0,0,0.1);'>\n",
       "                <h5 style='margin: 0 0 10px 0; color: #333;'>\n",
       "                    5. Claude \n",
       "                    <span style='background: #2196F3; color: white; padding: 2px 8px; \n",
       "                                border-radius: 12px; font-size: 12px; margin-left: 10px;'>\n",
       "                        5 mentions\n",
       "                    </span>\n",
       "                </h5>\n",
       "                <p style='color: #666; font-size: 14px; margin: 0; font-style: italic;'>\n",
       "                    \"Claude Desktop acts as an agent that can leverage the Model Context Protocol (MCP) to integrate and call other specialized agents like the Langraph agent, enabling complex multi-layered interactions....\"\n",
       "                </p>\n",
       "            </div>\n",
       "            "
      ],
      "text/plain": [
       "<IPython.core.display.HTML object>"
      ]
     },
     "metadata": {},
     "output_type": "display_data"
    },
    {
     "data": {
      "text/html": [
       "\n",
       "            <div style='background: white; border: 1px solid #e0e0e0; border-radius: 8px; \n",
       "                        padding: 15px; margin: 10px 0; box-shadow: 0 2px 4px rgba(0,0,0,0.1);'>\n",
       "                <h5 style='margin: 0 0 10px 0; color: #333;'>\n",
       "                    6. MCP Tool \n",
       "                    <span style='background: #2196F3; color: white; padding: 2px 8px; \n",
       "                                border-radius: 12px; font-size: 12px; margin-left: 10px;'>\n",
       "                        5 mentions\n",
       "                    </span>\n",
       "                </h5>\n",
       "                <p style='color: #666; font-size: 14px; margin: 0; font-style: italic;'>\n",
       "                    \"Publishing agents as MCP tools allows for enhanced composability and interoperability, enabling agents to be accessed through various clients and orchestrated to perform sequential tasks within workfl...\"\n",
       "                </p>\n",
       "            </div>\n",
       "            "
      ],
      "text/plain": [
       "<IPython.core.display.HTML object>"
      ]
     },
     "metadata": {},
     "output_type": "display_data"
    },
    {
     "data": {
      "text/html": [
       "\n",
       "            <div style='background: white; border: 1px solid #e0e0e0; border-radius: 8px; \n",
       "                        padding: 15px; margin: 10px 0; box-shadow: 0 2px 4px rgba(0,0,0,0.1);'>\n",
       "                <h5 style='margin: 0 0 10px 0; color: #333;'>\n",
       "                    7. Tool Swarm \n",
       "                    <span style='background: #2196F3; color: white; padding: 2px 8px; \n",
       "                                border-radius: 12px; font-size: 12px; margin-left: 10px;'>\n",
       "                        4 mentions\n",
       "                    </span>\n",
       "                </h5>\n",
       "                <p style='color: #666; font-size: 14px; margin: 0; font-style: italic;'>\n",
       "                    \"Tom, I mentioned to you I like to demo these Langraph agents. We've talked about A2A all these different design patterns and so I'll just jump to something that I'm excited about. I have this in Claud...\"\n",
       "                </p>\n",
       "            </div>\n",
       "            "
      ],
      "text/plain": [
       "<IPython.core.display.HTML object>"
      ]
     },
     "metadata": {},
     "output_type": "display_data"
    },
    {
     "data": {
      "text/html": [
       "\n",
       "            <div style='background: white; border: 1px solid #e0e0e0; border-radius: 8px; \n",
       "                        padding: 15px; margin: 10px 0; box-shadow: 0 2px 4px rgba(0,0,0,0.1);'>\n",
       "                <h5 style='margin: 0 0 10px 0; color: #333;'>\n",
       "                    8. Claude desktop \n",
       "                    <span style='background: #2196F3; color: white; padding: 2px 8px; \n",
       "                                border-radius: 12px; font-size: 12px; margin-left: 10px;'>\n",
       "                        3 mentions\n",
       "                    </span>\n",
       "                </h5>\n",
       "                <p style='color: #666; font-size: 14px; margin: 0; font-style: italic;'>\n",
       "                    \"Claude Desktop acts as an agent that can leverage the Model Context Protocol (MCP) to integrate and call other specialized agents like the Langraph agent, enabling complex multi-layered interactions....\"\n",
       "                </p>\n",
       "            </div>\n",
       "            "
      ],
      "text/plain": [
       "<IPython.core.display.HTML object>"
      ]
     },
     "metadata": {},
     "output_type": "display_data"
    },
    {
     "data": {
      "text/html": [
       "\n",
       "            <div style='background: white; border: 1px solid #e0e0e0; border-radius: 8px; \n",
       "                        padding: 15px; margin: 10px 0; box-shadow: 0 2px 4px rgba(0,0,0,0.1);'>\n",
       "                <h5 style='margin: 0 0 10px 0; color: #333;'>\n",
       "                    9. Claude Desktop \n",
       "                    <span style='background: #2196F3; color: white; padding: 2px 8px; \n",
       "                                border-radius: 12px; font-size: 12px; margin-left: 10px;'>\n",
       "                        3 mentions\n",
       "                    </span>\n",
       "                </h5>\n",
       "                <p style='color: #666; font-size: 14px; margin: 0; font-style: italic;'>\n",
       "                    \"Claude Desktop acts as an agent that can leverage the Model Context Protocol (MCP) to integrate and call other specialized agents like the Langraph agent, enabling complex multi-layered interactions....\"\n",
       "                </p>\n",
       "            </div>\n",
       "            "
      ],
      "text/plain": [
       "<IPython.core.display.HTML object>"
      ]
     },
     "metadata": {},
     "output_type": "display_data"
    },
    {
     "data": {
      "text/html": [
       "\n",
       "            <div style='background: white; border: 1px solid #e0e0e0; border-radius: 8px; \n",
       "                        padding: 15px; margin: 10px 0; box-shadow: 0 2px 4px rgba(0,0,0,0.1);'>\n",
       "                <h5 style='margin: 0 0 10px 0; color: #333;'>\n",
       "                    10. CLAUDE Desktop \n",
       "                    <span style='background: #2196F3; color: white; padding: 2px 8px; \n",
       "                                border-radius: 12px; font-size: 12px; margin-left: 10px;'>\n",
       "                        3 mentions\n",
       "                    </span>\n",
       "                </h5>\n",
       "                <p style='color: #666; font-size: 14px; margin: 0; font-style: italic;'>\n",
       "                    \"Claude Desktop acts as an agent that can leverage the Model Context Protocol (MCP) to integrate and call other specialized agents like the Langraph agent, enabling complex multi-layered interactions....\"\n",
       "                </p>\n",
       "            </div>\n",
       "            "
      ],
      "text/plain": [
       "<IPython.core.display.HTML object>"
      ]
     },
     "metadata": {},
     "output_type": "display_data"
    },
    {
     "data": {
      "text/markdown": [
       "#### Product Mention Distribution:"
      ],
      "text/plain": [
       "<IPython.core.display.Markdown object>"
      ]
     },
     "metadata": {},
     "output_type": "display_data"
    },
    {
     "data": {
      "image/png": "[encoded data removed]",
      "text/plain": [
       "<Figure size 1000x600 with 1 Axes>"
      ]
     },
     "metadata": {},
     "output_type": "display_data"
    }
   ],
   "source": [
    "# Extract products mentioned - Enhanced version\n",
    "print(\"Extracting products from episode content...\")\n",
    "\n",
    "# Check if we have data to work with\n",
    "has_insights = 'insights' in locals() and insights\n",
    "has_segments = 'segments' in locals() and segments\n",
    "\n",
    "if not has_segments:\n",
    "    print(\"Error: No segments available. Please run transcription first.\")\n",
    "else:\n",
    "    # Read existing products\n",
    "    products_df = pd.read_csv(csv_files['products'])\n",
    "    products_found = []\n",
    "    \n",
    "    # Comprehensive list of products from The Build Vault database\n",
    "    known_products = [\n",
    "        '16-camera Setup', '16-Camera Setup', '2.5 model', '3D Rendering Tools', '3js', '808 Protocol',\n",
    "        '8-way Inspector Tool', 'A2A', 'A2A Agent Card', 'A2A Demo Web App', 'A2A Protocol',\n",
    "        'A2A Protocol & ADK Kit', 'A2A Protocol Validator', 'A2A Protocol Wrapping', 'ABK Agent',\n",
    "        'Ableton Live', 'Ableton MCP', 'ADA Development Website', 'ADK Kit', 'Advanced LLM Tooling',\n",
    "        'Agent Card Interface', 'Agent Development Studio', 'Agent Development Tool', 'agent email manager',\n",
    "        'Agent Email Manager', 'Agentic coding tools', 'Agentic Coding Tools', 'Agent Inbox', 'AgentInbox',\n",
    "        'Agents SDK', 'Agent-to-Agent (A2A) Protocol', 'Age of Experience', 'Age of Experience Paper',\n",
    "        'AI Chat Integration', 'AI SDK', 'AI Visualization Project', 'Alexa Voice Assistant', 'AlexNet',\n",
    "        'Amazon S3 Storage', 'Ambient Agent Showcases', 'Amy Math Dataset', 'Android', 'Android devices',\n",
    "        'Android Devices', 'Anthropic', 'Anthropic Computer Use', 'Anthropic Data Notebook',\n",
    "        'Anthropic Economic Index', 'Anthropic Integration', 'Anthropic Integration Compatibility',\n",
    "        'Anthropic Integrations', 'Anthropic MCP Server', 'Anthropic System Prompt', 'Apple AR Wearables',\n",
    "        'Apple Devices', 'Arcade', 'Arcade Connector', 'Arcade.dev', 'Arcade Platform', 'Arcade Server',\n",
    "        'Arcade Server Demo', \"Arcade's MCP\", 'ARC Prize Test Access', 'Audio AI Model',\n",
    "        'Augmented Reality App', 'Augmented Reality Glasses', 'Authentication Components',\n",
    "        'Auto-discover MCP Servers', 'AWE AR Conference', 'Azure AI Foundry', 'Azure Debugging Features',\n",
    "        'Bing API search', 'Bing Search API', 'BlackRock LangChain Solution', 'Brave AI Leo',\n",
    "        'Browser Info Saving', 'Build Demo Location', 'Builder Fusion', 'Build Supervisor',\n",
    "        'Build Supervisor Tool', 'Build Vault Website', 'ByteDance video model', 'Cerebras inference approach',\n",
    "        'Cerebras Inference Approach', 'Chat GPT', 'ChatGPT', 'ChatGPT connectors', 'ChatGPT Connectors',\n",
    "        'ChatGPT Desktop', 'ChatGPT Read-Only Connectors', 'Claude', 'Claude 3.7', 'Claude 4', 'Claude4',\n",
    "        'Claude 4 AI System', 'Claude4 Premium Upgrade', 'claude.ai', 'Claude AI', 'Claude AI Model',\n",
    "        'Claude code', 'Claude Code', 'Claude Code Claim', 'Claude Code & Codex', 'Claude desktop',\n",
    "        'Claude Desktop', 'CLAUDE Desktop', 'CLAUDE Desktop Extensions', 'Claude Desktop Extensions (.dxt)',\n",
    "        'Claude Four', 'Claude Haiku', 'Claude Haiku Model', 'Claude MD File', 'Claude Parallel Tools',\n",
    "        'Claude System Card', 'Claude Web', 'Claude Web Search Integration', 'Clients Auto-Discovery',\n",
    "        'Cline AI Autonomous Coding Agent for VS Code', 'Cloud Code', 'Cloudflare',\n",
    "        'Cloudflare Container Integration', 'Cloudflare Containers', 'Cloudflare Container Service',\n",
    "        'Cloudflare D1 Database', 'Cloudflare native database access', 'Cloudflare Under Attack Mode',\n",
    "        'Cloudflare Workers', 'Codex', 'Codex GitHub integration', 'Coding Prompt Slide', 'Colab Notebook',\n",
    "        'Comfy UI', 'ComfyUI', 'Complete Bot Blocking', 'Computer Use', 'Containerized Environments',\n",
    "        'Copilot Studio', 'Creative Tooling Project', 'Cursor', 'Custom Tools & Templates',\n",
    "        'Custom Tool Templates', 'D3', 'D3 Charting Library', 'Daytona', 'Daytona equivalent container',\n",
    "        'Daytona Sandbox Environment', 'Daytona Website', 'DeepMind Age of Experience', 'Deep Research Agent',\n",
    "        'Deep Research Credits', 'Deep SEQ', 'Deep Seq Model', 'Deep Seq Reasoning Model', 'Deep Wiki',\n",
    "        'DeepWiki', 'Deep Wiki Agent', 'DeepWiki MCP Endpoint', 'Deep Winkey', 'Developer Package Manager',\n",
    "        'Devon Slack Integration', 'Diffusion Models', 'Doc ETL', 'DocETL', 'Docker',\n",
    "        'Docker Container Image', 'Document ETL Module', 'Epoch AI Model Tracker', 'Evals', 'Figma',\n",
    "        'First Audio-Enabled AI Model', 'Flora', 'Flora Fauna', 'Flora Software', 'Flora tool', 'Flow',\n",
    "        'Foundry', 'Foundry Ecosystem', 'Gaming Headset', 'Gaming Headsets', 'Gaussian splatting',\n",
    "        'Gaussian Splatting Approach', 'Gemini Deep Research Agent', 'Gemini diffusion model',\n",
    "        'Gemma 3N Model', 'Generative UI Example', 'Genetic Penetration Testing Agent Swarm',\n",
    "        'Gina AI Endpoint', 'Gina AI Website API', 'GitHub', 'GitHub Medical Agent',\n",
    "        'GitHub Project Management', 'Glean Enterprise Search', 'Gmail', 'Google A2A Protocol',\n",
    "        'Google AI Mode', 'Google CLI Tool', 'Google Cloud Platform', 'Google Colab Notebook',\n",
    "        'Google Flow', 'Google Gemini Agent', 'Google Gemini CLI', 'Google Vertex MedAI Model',\n",
    "        'Google Video Conferencing', 'Google X xr Glasses', 'Google X XR Glasses', 'Google X XR Platform',\n",
    "        'GPT-3', 'GPUs', 'Graph Chat Switch', 'Grok', 'Grok 4', 'Grok 4 Model', 'Grok LPU Architecture',\n",
    "        'Groq Cloud', 'GUI Configuration', 'Hailuo 02', 'HOA Repository Samples', 'Hosted Cloud Option',\n",
    "        'Hosted Demo Version', 'Hosted Experimentation Version', 'Hosted MCP Connectors', 'Hosted MCP Servers',\n",
    "        'Hosted OAP Demo', 'Hosted Version Demo', 'Hosted Version Sandbox', 'Hugging Face Medical Sets',\n",
    "        \"Humanity's Last Exam\", 'Inception Labs Research', 'Incline 2.5 Experimental', 'IO', 'IO Device',\n",
    "        'iOS Voice App', 'Jules Autonomous AI Coding Agent', 'Jules Coding Engine', \"Karpathy's LLM Tutorial\",\n",
    "        \"Karpathy's LLM Video\", 'Kinesi', 'Klein AI System', 'Knowledge base', 'KWAG Model', 'Lance DB',\n",
    "        'LanceDB', 'Landgraph Platform', 'LangChain', 'LangChain Framework', 'LangChain & LangGraph',\n",
    "        'LangChain Library', 'LangChain Memory Package', 'LangChain Open Agent', 'LangChain Open Agent platform',\n",
    "        'LangChain Open Agent Platform', 'LangChain Open-Source Project', 'LangChain Platform',\n",
    "        'LangChain plugin', \"LangChain's Evals framework\", \"LangChain's graphs\", 'Langgraph', 'LangGraph',\n",
    "        'Langgraph agent', 'Langgraph Agent', 'LangGraph Agent Engine', 'Langgraph Agents',\n",
    "        'Langgraph Cloud', 'Lang Graph Cloud', 'LangGraph Cloud', 'Langgraph Cloud Assistants',\n",
    "        'Lang Graph dev', 'Langgraph Front', 'LangGraph Platform', 'Langgraph Platform Cloud',\n",
    "        'LangGraph Starter Kit', 'Langgraph Studio', 'LangGraph Studio', 'LangLangCh', 'Langmem',\n",
    "        'LangMem', 'Langmen', 'Langmen Package', 'Langraph Cloud', 'Langraph Platform', 'Langsmith',\n",
    "        'LangSmith', 'LangSmith Observability', 'LangSmith Platform', 'Langsmith Tracing Tool',\n",
    "        'Langsmith view', 'Langsmith View', 'Language Front', 'Letta', 'Letta AI Product', 'Linear',\n",
    "        'Linear agents', 'Linear Agents', 'Linear Task Manager', 'Live 12', 'LLM Powered Autonomous Agents',\n",
    "        'Local Development Environment', 'Maidxo Diagnostic Agent', 'Manus', 'Manus AI Tool',\n",
    "        'Max for Live', 'MCP', 'MCP Agents', 'MCP and A2A agent-to-agent protocols',\n",
    "        'MCP and A2A Protocols', 'MCP Demos', 'MCP Integrator Toolkit', '[mcp]Lab', 'MCP + OAP Orchestrator',\n",
    "        'MCP platform', 'MCP Platform', 'MCP registry', 'MCP Registry', 'MCP Server',\n",
    "        'MCP Server Connectors', 'MCP servers', 'MCP Servers', 'MCP Server Tool', 'MCP Streamable HTTP',\n",
    "        'MCP Technology', 'MCP Tool', 'Mem0', 'MEM0 Memory Module', 'Memos', 'memos paper', 'Memos paper',\n",
    "        'Memos Paper', 'Memos Project', 'Mercury', 'Meta AR Devices', 'Microsoft Cloud Platform (MCP)',\n",
    "        'Microsoft Enterprise Connectors', 'Microsoft Initial Connectors', 'Microsoft Power Platform',\n",
    "        \"Microsoft's OpenAI Stake\", 'Million-Token Context Model', 'Minimax', 'Minimax video model',\n",
    "        'ML Integration in Agents', 'MongoDB', 'Multi-angle Camera Capture', 'Multi-Angle Footage Rendering',\n",
    "        'Multi-Product Tool Integration', 'NAICS Raw Data', 'NCP Collaboration Framework',\n",
    "        'NEJM Open Datasets', 'Neo4J', 'Neo4J Graph Database', 'neural graph', 'Neural Graph Tool',\n",
    "        'Neurop', 'Next.js Hosting Platform', 'Nvidia Proprietary Models', \"Nvidia's Proprietary Models\",\n",
    "        'o3', 'O3', 'O3 Agent', 'O3 LLM Core Model', 'O3 model', 'O3 preview', 'Open Agent platform',\n",
    "        'Open Agent Platform', 'OpenAgent Platform', 'Open Agent Platform (OAP)', 'OpenAI',\n",
    "        'OpenAI Agents SDK', 'OpenAI Codex', 'OpenAI customer service demo', 'OpenAI desktop app',\n",
    "        'OpenAI Embeddings', 'OpenAI embeddings model', 'OpenAI Embeddings Model', 'OpenAI Evaluations',\n",
    "        'OpenAI GPT-3', 'OpenAI Interface', 'OpenAI MCP', 'OpenAI Memory Feature',\n",
    "        'OpenAI Microsoft Connectors', 'OpenAI o3', 'OpenAI Real-Time API', 'OpenAI Service Demo',\n",
    "        \"OpenAI's MCP\", \"OpenAI's SDK\", 'OpenAI Swarm Paper', 'OpenAI tools', 'Open Deep Wiki',\n",
    "        'OpenEvidence', 'Open Router', 'OpenRouter', 'Open Source Agent Graph', 'Open Source Culture Book',\n",
    "        'Open Source Sandboxes', 'Operator', 'Operator feature', 'Orange Pi', 'Orange PI',\n",
    "        'Orange PI SBC', 'Orange Pi with NPU', 'Ortho Authentication Tooling', 'Paid demo instance',\n",
    "        'Perplexity Browser', 'Perplexity Labs', 'Pliny GitHub Repo', 'Pliny GitHub Repository',\n",
    "        'Pliny the Elder GitHub Repo', 'Pliny the Elder Repo', 'Pliny the Prompter', 'Power Platform',\n",
    "        'PowerPoint', 'Pulse MCP', 'Pulse MCP API', 'Pulse MCP Marketplace', 'Quad Four', 'Quinn 2',\n",
    "        'Qwen3', 'Raspberry Pi Pico', 'React Three Fiber', 'Readable AI Tool Version',\n",
    "        'Read Wiki Structure Tool', 'Real-Environment Flight Tech', 'Real-time Stable Diffusion',\n",
    "        'Replicate', 'Replit', 'Replit V2 IDE', 'Revenue and Employees Data', 'Revenue per Employee',\n",
    "        'Riverside', 'Riverside.fm', 'Riverside Tool', 'RL Datasets on Hugging Face', 'Router',\n",
    "        'Router Leaderboard Feature', 'S3', 'Scrappy Bar API', 'Scrapybara', 'search connector',\n",
    "        'Search Connector', 'Second Opinion OAP Supervisor', 'Seed Dance 1.0', 'Self-Hosted Version',\n",
    "        'Slack', 'Snap Glasses Infrared', 'Snap Glasses Infrared Sensors', \"Snap's glasses\",\n",
    "        'Snap Smart Glasses', 'Social Media Platforms', 'Sora', 'Sora Editing Tool', 'Sora Video Editor',\n",
    "        'SQL Agent', 'Stable Diffusion', 'Stripe Developer Books', 'Studio Environment', 'Supabase',\n",
    "        'Supabase Integration', 'Supabase Integration Customization', 'Supervisor View', 'Surface Pro',\n",
    "        'Swift Voice Agent Implementation', 'Synth ID', 'Tableau dashboard', 'Tableau Dashboard',\n",
    "        'Tavily', 'Tavily Search API', 'Tavoli Search API', 'Three.js', 'Tool Information UI',\n",
    "        'Tool Suite Integration', 'Tool Swarm', 'Tool Swarm Agent', 'UI Capture Interaction',\n",
    "        'Universal Tool Server', 'Unreal Engine', 'Unreal Engine toolkit', 'V0 Agent', 'v0.dev',\n",
    "        'v0.dev Agent', 'V0 portal', 'V0 Portal', 'V2', 'Vector Store', 'Vector Store Interaction',\n",
    "        'Vending Bench', 'VEO', 'VEO 3', 'VEO video model', 'Vercel', 'Vercel Platform',\n",
    "        'Vertex Monitoring Tools', 'Video Generation Tool', 'Virtual Desktop Tools', 'VO2 Agent',\n",
    "        'VS Code', 'Website Toolkit', 'WebSockets', 'WebSockets Technology', 'Windows 95', 'Xcode',\n",
    "        'Xcode AI Enhancements', 'Xcode AI Integration', 'Zapier Integration'\n",
    "    ]\n",
    "    \n",
    "    print(f\"Searching for {len(known_products)} known products...\")\n",
    "    \n",
    "    # Extract from insights if available\n",
    "    if has_insights:\n",
    "        print(\"\\nChecking insights for product mentions...\")\n",
    "        for insight in insights:\n",
    "            content = insight['content'].lower()\n",
    "            \n",
    "            for product in known_products:\n",
    "                if product.lower() in content:\n",
    "                    products_found.append({\n",
    "                        'name': product,\n",
    "                        'episode_id': episode_id,\n",
    "                        'mentioned_in': 'insight',\n",
    "                        'context': insight['content'][:200]\n",
    "                    })\n",
    "    \n",
    "    # Extract from transcript segments\n",
    "    print(f\"\\nChecking {min(len(segments), 50)} transcript segments...\")\n",
    "    for i, segment in enumerate(segments[:50]):  # Limit to first 50 segments for demo\n",
    "        content = segment['display_text'].lower()\n",
    "        \n",
    "        for product in known_products:\n",
    "            if product.lower() in content:\n",
    "                products_found.append({\n",
    "                    'name': product,\n",
    "                    'episode_id': episode_id,\n",
    "                    'mentioned_in': 'transcript',\n",
    "                    'context': segment['display_text'][:200]\n",
    "                })\n",
    "    \n",
    "    print(f\"\\nFound {len(products_found)} total product mentions\")\n",
    "    \n",
    "    # Deduplicate and count mentions\n",
    "    product_counts = {}\n",
    "    for p in products_found:\n",
    "        name = p['name']\n",
    "        if name not in product_counts:\n",
    "            product_counts[name] = {\n",
    "                'count': 0,\n",
    "                'episode_ids': [],\n",
    "                'contexts': []\n",
    "            }\n",
    "        product_counts[name]['count'] += 1\n",
    "        if episode_id not in product_counts[name]['episode_ids']:\n",
    "            product_counts[name]['episode_ids'].append(episode_id)\n",
    "        product_counts[name]['contexts'].append(p['context'])\n",
    "    \n",
    "    print(f\"{len(product_counts)} unique products found\")\n",
    "    \n",
    "    # Update products DataFrame\n",
    "    new_products = []\n",
    "    updated_count = 0\n",
    "    \n",
    "    for name, data in product_counts.items():\n",
    "        # Check if product already exists\n",
    "        existing = products_df[products_df['name'] == name]\n",
    "        \n",
    "        if existing.empty:\n",
    "            # New product\n",
    "            new_products.append({\n",
    "                'id': str(uuid.uuid4()),\n",
    "                'name': name,\n",
    "                'episode_ids': json.dumps(data['episode_ids']),\n",
    "                'mention_count': data['count']\n",
    "            })\n",
    "        else:\n",
    "            # Update existing product\n",
    "            idx = existing.index[0]\n",
    "            existing_episodes = json.loads(products_df.loc[idx, 'episode_ids'])\n",
    "            if episode_id not in existing_episodes:\n",
    "                existing_episodes.append(episode_id)\n",
    "            products_df.loc[idx, 'episode_ids'] = json.dumps(existing_episodes)\n",
    "            products_df.loc[idx, 'mention_count'] += data['count']\n",
    "            updated_count += 1\n",
    "    \n",
    "    # Add new products\n",
    "    if new_products:\n",
    "        new_products_df = pd.DataFrame(new_products)\n",
    "        products_df = pd.concat([products_df, new_products_df], ignore_index=True)\n",
    "        print(f\"Success: Added {len(new_products)} new products to database\")\n",
    "    \n",
    "    if updated_count:\n",
    "        print(f\"Success: Updated {updated_count} existing products\")\n",
    "    \n",
    "    # Save to CSV\n",
    "    products_df.to_csv(csv_files['products'], index=False)\n",
    "    \n",
    "    print(f\"\\nSuccess: Products extraction complete!\")\n",
    "    print(f\"   - Total unique products: {len(product_counts)}\")\n",
    "    print(f\"   - Total mentions: {sum(p['count'] for p in product_counts.values())}\")\n",
    "    \n",
    "    # Display products\n",
    "    if product_counts:\n",
    "        display(Markdown(\"### Products Mentioned\"))\n",
    "        \n",
    "        # Sort by mention count\n",
    "        sorted_products = sorted(product_counts.items(), key=lambda x: x[1]['count'], reverse=True)\n",
    "        \n",
    "        # Show top products with context\n",
    "        display(Markdown(\"#### Top Products by Mentions:\"))\n",
    "        for i, (name, data) in enumerate(sorted_products[:10]):\n",
    "            # Get a sample context\n",
    "            sample_context = data['contexts'][0] if data['contexts'] else \"No context available\"\n",
    "            \n",
    "            display(HTML(f\"\"\"\n",
    "            <div style='background: white; border: 1px solid #e0e0e0; border-radius: 8px; \n",
    "                        padding: 15px; margin: 10px 0; box-shadow: 0 2px 4px rgba(0,0,0,0.1);'>\n",
    "                <h5 style='margin: 0 0 10px 0; color: #333;'>\n",
    "                    {i+1}. {name} \n",
    "                    <span style='background: #2196F3; color: white; padding: 2px 8px; \n",
    "                                border-radius: 12px; font-size: 12px; margin-left: 10px;'>\n",
    "                        {data['count']} mentions\n",
    "                    </span>\n",
    "                </h5>\n",
    "                <p style='color: #666; font-size: 14px; margin: 0; font-style: italic;'>\n",
    "                    \"{sample_context}...\"\n",
    "                </p>\n",
    "            </div>\n",
    "            \"\"\"))\n",
    "        \n",
    "        # Product cloud visualization\n",
    "        if len(sorted_products) > 5:\n",
    "            display(Markdown(\"#### Product Mention Distribution:\"))\n",
    "            \n",
    "            # Create bar chart\n",
    "            top_10 = sorted_products[:10]\n",
    "            names = [p[0] for p in top_10]\n",
    "            counts = [p[1]['count'] for p in top_10]\n",
    "            \n",
    "            plt.figure(figsize=(10, 6))\n",
    "            bars = plt.bar(names, counts, color='#2196F3')\n",
    "            plt.title('Top 10 Products by Mention Count')\n",
    "            plt.xlabel('Product')\n",
    "            plt.ylabel('Number of Mentions')\n",
    "            plt.xticks(rotation=45, ha='right')\n",
    "            \n",
    "            # Add value labels on bars\n",
    "            for bar in bars:\n",
    "                height = bar.get_height()\n",
    "                plt.text(bar.get_x() + bar.get_width()/2., height,\n",
    "                        f'{int(height)}', ha='center', va='bottom')\n",
    "            \n",
    "            plt.tight_layout()\n",
    "            plt.show()\n",
    "    else:\n",
    "        print(\"\\nNo products found. This could be because:\")\n",
    "        print(\"   - The episode doesn't mention any known products\")\n",
    "        print(\"   - The transcript is too short\")\n",
    "        print(\"   - The product list needs to be expanded\")"
   ]
  },
  {
   "cell_type": "markdown",
   "metadata": {},
   "source": [
    "## Step 5: Extract Products"
   ]
  },
  {
   "cell_type": "code",
   "execution_count": 10,
   "metadata": {},
   "outputs": [
    {
     "name": "stdout",
     "output_type": "stream",
     "text": [
      "Extracting links from episode content...\n",
      "Searching for links in available content...\n",
      "\n",
      "Checking 9 insights for links...\n",
      "\n",
      "Checking 19 transcript segments for links...\n",
      "\n",
      "Checking for mentioned websites...\n",
      "\n",
      "Found 0 total link mentions\n",
      "0 unique links after deduplication\n",
      "\n",
      "No new links found\n",
      "\n",
      "No links found in this episode\n"
     ]
    },
    {
     "data": {
      "text/html": [
       "\n",
       "    <div style='background: #e3f2fd; padding: 15px; border-radius: 5px; margin-top: 20px;'>\n",
       "        <strong>Note:</strong> Links are extracted from:\n",
       "        <ul style='margin: 5px 0;'>\n",
       "            <li>Direct URL mentions in the transcript</li>\n",
       "            <li>Website names mentioned in conversation</li>\n",
       "            <li>Links found in extracted insights</li>\n",
       "        </ul>\n",
       "        Link enrichment (fetching page titles and descriptions) is disabled in demo mode.\n",
       "    </div>\n",
       "    "
      ],
      "text/plain": [
       "<IPython.core.display.HTML object>"
      ]
     },
     "metadata": {},
     "output_type": "display_data"
    }
   ],
   "source": [
    "# Extract links - Enhanced version\n",
    "import re\n",
    "\n",
    "print(\"Extracting links from episode content...\")\n",
    "\n",
    "if 'episode_id' not in locals():\n",
    "    print(\"Error: Please run the Audio Download step first\")\n",
    "else:\n",
    "    # Read existing links\n",
    "    links_df = pd.read_csv(csv_files['links'])\n",
    "    found_links = []\n",
    "    \n",
    "    # Enhanced URL pattern to catch more URL formats\n",
    "    url_patterns = [\n",
    "        re.compile(r'https?://(?:www\\.)?[^\\s<>\"{}|\\\\^`\\[\\]]+'),\n",
    "        re.compile(r'(?:www\\.)[^\\s<>\"{}|\\\\^`\\[\\]]+\\.[a-z]{2,}'),\n",
    "        re.compile(r'[a-zA-Z0-9-]+\\.[a-z]{2,}/[^\\s<>\"{}|\\\\^`\\[\\]]*')\n",
    "    ]\n",
    "    \n",
    "    print(\"Searching for links in available content...\")\n",
    "    \n",
    "    # Extract from insights\n",
    "    if 'insights' in locals() and insights:\n",
    "        print(f\"\\nChecking {len(insights)} insights for links...\")\n",
    "        for insight in insights:\n",
    "            for pattern in url_patterns:\n",
    "                urls = pattern.findall(insight['content'])\n",
    "                for url in urls:\n",
    "                    # Normalize URL\n",
    "                    if not url.startswith('http'):\n",
    "                        url = 'https://' + url\n",
    "                    found_links.append({\n",
    "                        'url': url,\n",
    "                        'source': 'insight',\n",
    "                        'context': insight['content'][:150]\n",
    "                    })\n",
    "    \n",
    "    # Extract from transcript\n",
    "    if 'segments' in locals() and segments:\n",
    "        print(f\"\\nChecking {min(len(segments), 30)} transcript segments for links...\")\n",
    "        for segment in segments[:30]:  # Check first 30 segments\n",
    "            for pattern in url_patterns:\n",
    "                urls = pattern.findall(segment['display_text'])\n",
    "                for url in urls:\n",
    "                    if not url.startswith('http'):\n",
    "                        url = 'https://' + url\n",
    "                    found_links.append({\n",
    "                        'url': url,\n",
    "                        'source': 'transcript',\n",
    "                        'context': segment['display_text'][:150]\n",
    "                    })\n",
    "    \n",
    "    # Also check for mentioned websites without full URLs\n",
    "    print(\"\\nChecking for mentioned websites...\")\n",
    "    website_mentions = {\n",
    "        'chatgpt': 'https://chat.openai.com',\n",
    "        'openai': 'https://openai.com',\n",
    "        'github': 'https://github.com',\n",
    "        'youtube': 'https://youtube.com',\n",
    "        'google': 'https://google.com',\n",
    "        'twitter': 'https://twitter.com',\n",
    "        'linkedin': 'https://linkedin.com',\n",
    "        'stack overflow': 'https://stackoverflow.com',\n",
    "        'reddit': 'https://reddit.com'\n",
    "    }\n",
    "    \n",
    "    # Search in all available text\n",
    "    all_text = \"\"\n",
    "    if 'segments' in locals() and segments:\n",
    "        all_text += \" \".join([s['display_text'] for s in segments[:50]])\n",
    "    if 'insights' in locals() and insights:\n",
    "        all_text += \" \".join([i['content'] for i in insights])\n",
    "    \n",
    "    all_text_lower = all_text.lower()\n",
    "    \n",
    "    for mention, url in website_mentions.items():\n",
    "        if mention in all_text_lower:\n",
    "            found_links.append({\n",
    "                'url': url,\n",
    "                'source': 'inferred',\n",
    "                'context': f'{mention.title()} was mentioned in the episode'\n",
    "            })\n",
    "    \n",
    "    print(f\"\\nFound {len(found_links)} total link mentions\")\n",
    "    \n",
    "    # Deduplicate links\n",
    "    unique_links = {}\n",
    "    for link in found_links:\n",
    "        url = link['url'].rstrip('/').lower()  # Normalize URL\n",
    "        if url not in unique_links:\n",
    "            unique_links[url] = link\n",
    "    \n",
    "    print(f\"{len(unique_links)} unique links after deduplication\")\n",
    "    \n",
    "    # Create link records\n",
    "    new_links = []\n",
    "    for url, link_data in unique_links.items():\n",
    "        # Check if link already exists for this episode\n",
    "        existing = links_df[(links_df['episode_id'] == episode_id) & (links_df['url'] == link_data['url'])]\n",
    "        \n",
    "        if existing.empty:\n",
    "            # Extract title from URL\n",
    "            url_parts = link_data['url'].replace('https://', '').replace('http://', '').split('/')\n",
    "            domain = url_parts[0].replace('www.', '')\n",
    "            title = domain.split('.')[0].title() if domain else 'Link'\n",
    "            \n",
    "            # Better title extraction\n",
    "            if 'github.com' in link_data['url']:\n",
    "                title = 'GitHub: ' + '/'.join(url_parts[1:3]) if len(url_parts) > 2 else 'GitHub'\n",
    "            elif 'youtube.com' in link_data['url'] or 'youtu.be' in link_data['url']:\n",
    "                title = 'YouTube Video'\n",
    "            elif link_data['source'] == 'inferred':\n",
    "                title = link_data['context']\n",
    "            \n",
    "            new_links.append({\n",
    "                'id': str(uuid.uuid4()),\n",
    "                'episode_id': episode_id,\n",
    "                'url': link_data['url'],\n",
    "                'title': title,\n",
    "                'description': f\"Found in {link_data['source']}: {link_data['context']}\",\n",
    "                'enriched': False\n",
    "            })\n",
    "    \n",
    "    # Add new links\n",
    "    if new_links:\n",
    "        new_links_df = pd.DataFrame(new_links)\n",
    "        links_df = pd.concat([links_df, new_links_df], ignore_index=True)\n",
    "        links_df.to_csv(csv_files['links'], index=False)\n",
    "        print(f\"\\nSuccess: Saved {len(new_links)} new links to CSV\")\n",
    "    else:\n",
    "        print(\"\\nNo new links found\")\n",
    "    \n",
    "    # Display links\n",
    "    episode_links = links_df[links_df['episode_id'] == episode_id]\n",
    "    \n",
    "    if not episode_links.empty:\n",
    "        display(Markdown(\"### Episode Links\"))\n",
    "        \n",
    "        print(f\"\\nFound {len(episode_links)} links for this episode\")\n",
    "        \n",
    "        # Group by source\n",
    "        for _, link in episode_links.iterrows():\n",
    "            source_icon = \"Inferred\" if \"inferred\" in link.get('description', '') else \"Direct\"\n",
    "            \n",
    "            display(HTML(f\"\"\"\n",
    "            <div style='background: #f8f9fa; padding: 15px; margin: 10px 0; \n",
    "                        border-left: 4px solid #2196F3; border-radius: 5px;\n",
    "                        transition: all 0.3s ease;'\n",
    "                 onmouseover=\"this.style.background='#e3f2fd'\"\n",
    "                 onmouseout=\"this.style.background='#f8f9fa'\">\n",
    "                <div style='display: flex; justify-content: space-between; align-items: center;'>\n",
    "                    <div>\n",
    "                        <a href='{link['url']}' target='_blank' \n",
    "                           style='color: #2196F3; text-decoration: none; font-weight: bold; font-size: 16px;'>\n",
    "                            [{source_icon}] {link['title']}\n",
    "                        </a>\n",
    "                        <p style='color: #666; margin: 5px 0 0 0; font-size: 14px;'>\n",
    "                            {link.get('description', '')[:200]}\n",
    "                        </p>\n",
    "                        <p style='color: #999; margin: 5px 0 0 0; font-size: 12px; font-family: monospace;'>\n",
    "                            {link['url'][:80]}{'...' if len(link['url']) > 80 else ''}\n",
    "                        </p>\n",
    "                    </div>\n",
    "                    <div style='color: #2196F3; font-size: 24px;'>→</div>\n",
    "                </div>\n",
    "            </div>\n",
    "            \"\"\"))\n",
    "    else:\n",
    "        print(\"\\nNo links found in this episode\")\n",
    "    \n",
    "    # Summary note\n",
    "    display(HTML(\"\"\"\n",
    "    <div style='background: #e3f2fd; padding: 15px; border-radius: 5px; margin-top: 20px;'>\n",
    "        <strong>Note:</strong> Links are extracted from:\n",
    "        <ul style='margin: 5px 0;'>\n",
    "            <li>Direct URL mentions in the transcript</li>\n",
    "            <li>Website names mentioned in conversation</li>\n",
    "            <li>Links found in extracted insights</li>\n",
    "        </ul>\n",
    "        Link enrichment (fetching page titles and descriptions) is disabled in demo mode.\n",
    "    </div>\n",
    "    \"\"\"))"
   ]
  },
  {
   "cell_type": "markdown",
   "metadata": {},
   "source": [
    "## Step 6: Extract Links"
   ]
  },
  {
   "cell_type": "markdown",
   "metadata": {},
   "source": [
    "## Pipeline Summary"
   ]
  },
  {
   "cell_type": "code",
   "execution_count": 11,
   "metadata": {},
   "outputs": [
    {
     "data": {
      "text/markdown": [
       "## Pipeline Complete!"
      ],
      "text/plain": [
       "<IPython.core.display.Markdown object>"
      ]
     },
     "metadata": {},
     "output_type": "display_data"
    },
    {
     "data": {
      "text/html": [
       "\n",
       "    <div style='display: grid; grid-template-columns: repeat(auto-fit, minmax(150px, 1fr)); \n",
       "                gap: 15px; margin: 20px 0;'>\n",
       "    \n",
       "        <div style='background: #3498db; color: white; padding: 20px; \n",
       "                    border-radius: 10px; text-align: center;'>\n",
       "            <div style='font-size: 24px; font-weight: bold;'>The Build - Agents as MCP Tools</div>\n",
       "            <div style='font-size: 14px; margin-top: 5px;'>Episode</div>\n",
       "        </div>\n",
       "        \n",
       "        <div style='background: #2ecc71; color: white; padding: 20px; \n",
       "                    border-radius: 10px; text-align: center;'>\n",
       "            <div style='font-size: 24px; font-weight: bold;'>733 seconds</div>\n",
       "            <div style='font-size: 14px; margin-top: 5px;'>Duration</div>\n",
       "        </div>\n",
       "        \n",
       "        <div style='background: #f39c12; color: white; padding: 20px; \n",
       "                    border-radius: 10px; text-align: center;'>\n",
       "            <div style='font-size: 24px; font-weight: bold;'>19</div>\n",
       "            <div style='font-size: 14px; margin-top: 5px;'>Segments</div>\n",
       "        </div>\n",
       "        \n",
       "        <div style='background: #e74c3c; color: white; padding: 20px; \n",
       "                    border-radius: 10px; text-align: center;'>\n",
       "            <div style='font-size: 24px; font-weight: bold;'>9</div>\n",
       "            <div style='font-size: 14px; margin-top: 5px;'>Insights</div>\n",
       "        </div>\n",
       "        \n",
       "        <div style='background: #9b59b6; color: white; padding: 20px; \n",
       "                    border-radius: 10px; text-align: center;'>\n",
       "            <div style='font-size: 24px; font-weight: bold;'>Processed</div>\n",
       "            <div style='font-size: 14px; margin-top: 5px;'>Status</div>\n",
       "        </div>\n",
       "        </div>"
      ],
      "text/plain": [
       "<IPython.core.display.HTML object>"
      ]
     },
     "metadata": {},
     "output_type": "display_data"
    },
    {
     "data": {
      "text/markdown": [
       "\n",
       "### Data Files Created\n",
       "\n",
       "Your data has been saved to local CSV files in the `local_data` directory:\n",
       "- `episodes.csv` - Episode metadata\n",
       "- `segments.csv` - Transcription segments\n",
       "- `insights.csv` - Extracted insights\n",
       "\n",
       "You can now analyze this data using pandas or any other data analysis tools!\n",
       "    "
      ],
      "text/plain": [
       "<IPython.core.display.Markdown object>"
      ]
     },
     "metadata": {},
     "output_type": "display_data"
    }
   ],
   "source": [
    "# Final summary\n",
    "if 'episode_id' in locals() and episode_id:\n",
    "    # Mark as processed\n",
    "    episodes_df = pd.read_csv(csv_files['episodes'])\n",
    "    episodes_df.loc[episodes_df['id'] == episode_id, 'is_processed'] = True\n",
    "    episodes_df.to_csv(csv_files['episodes'], index=False)\n",
    "    \n",
    "    # Gather statistics\n",
    "    stats = {\n",
    "        \"Episode\": episode_data['title'] if 'episode_data' in locals() else 'Unknown',\n",
    "        \"Duration\": f\"{episode_data['duration']} seconds\" if 'episode_data' in locals() else 'Unknown',\n",
    "        \"Segments\": len(segments) if 'segments' in locals() else 0,\n",
    "        \"Insights\": len(insights) if 'insights' in locals() else 0,\n",
    "        \"Status\": \"Processed\"\n",
    "    }\n",
    "    \n",
    "    # Display summary\n",
    "    display(Markdown(\"## Pipeline Complete!\"))\n",
    "    \n",
    "    stats_html = \"\"\"\n",
    "    <div style='display: grid; grid-template-columns: repeat(auto-fit, minmax(150px, 1fr)); \n",
    "                gap: 15px; margin: 20px 0;'>\n",
    "    \"\"\"\n",
    "    \n",
    "    colors = ['#3498db', '#2ecc71', '#f39c12', '#e74c3c', '#9b59b6']\n",
    "    \n",
    "    for i, (stat, value) in enumerate(stats.items()):\n",
    "        color = colors[i % len(colors)]\n",
    "        stats_html += f\"\"\"\n",
    "        <div style='background: {color}; color: white; padding: 20px; \n",
    "                    border-radius: 10px; text-align: center;'>\n",
    "            <div style='font-size: 24px; font-weight: bold;'>{value}</div>\n",
    "            <div style='font-size: 14px; margin-top: 5px;'>{stat}</div>\n",
    "        </div>\n",
    "        \"\"\"\n",
    "    \n",
    "    stats_html += \"</div>\"\n",
    "    display(HTML(stats_html))\n",
    "    \n",
    "    display(Markdown(\"\"\"\n",
    "### Data Files Created\n",
    "\n",
    "Your data has been saved to local CSV files in the `local_data` directory:\n",
    "- `episodes.csv` - Episode metadata\n",
    "- `segments.csv` - Transcription segments\n",
    "- `insights.csv` - Extracted insights\n",
    "\n",
    "You can now analyze this data using pandas or any other data analysis tools!\n",
    "    \"\"\"))\n",
    "else:\n",
    "    print(\"Error: No episode was processed. Please run the notebook cells in order from the beginning.\")"
   ]
  }
 ],
 "metadata": {
  "kernelspec": {
   "display_name": "Build Vault (myenv)",
   "language": "python",
   "name": "myenv"
  },
  "language_info": {
   "codemirror_mode": {
    "name": "ipython",
    "version": 3
   },
   "file_extension": ".py",
   "mimetype": "text/x-python",
   "name": "python",
   "nbconvert_exporter": "python",
   "pygments_lexer": "ipython3",
   "version": "3.13.3"
  }
 },
 "nbformat": 4,
 "nbformat_minor": 4
}
